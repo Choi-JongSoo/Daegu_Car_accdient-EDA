{
 "cells": [
  {
   "cell_type": "code",
   "execution_count": null,
   "id": "56bb4c02-b01a-4e34-a5e1-a93c11d1cd93",
   "metadata": {},
   "outputs": [],
   "source": [
    "import pandas as pd\n",
    "import numpy as np\n",
    "import matplotlib.pyplot as plt\n",
    "import seaborn as sns\n",
    "pd.set_option(\"display.max_columns\", None)\n",
    "import warnings\n",
    "warnings.filterwarnings('ignore')\n",
    "plt.rcParams['font.family'] = 'Malgun Gothic'\n",
    "plt.rcParams['axes.unicode_minus'] = False\n"
   ]
  },
  {
   "cell_type": "code",
   "execution_count": null,
   "id": "eb377f1d-008e-400b-ad42-49d4213c2f69",
   "metadata": {},
   "outputs": [],
   "source": [
    "train_org = pd.read_csv(\"open/open/train.csv\")\n",
    "test_org = pd.read_csv(\"open/open/test.csv\")"
   ]
  },
  {
   "cell_type": "code",
   "execution_count": null,
   "id": "86a3ec4e-4609-40e4-a58e-85d8dddc2db6",
   "metadata": {},
   "outputs": [],
   "source": [
    "train_org.info()"
   ]
  },
  {
   "cell_type": "code",
   "execution_count": null,
   "id": "9d2f8592-35a7-4617-81b9-105cd8b521dd",
   "metadata": {},
   "outputs": [],
   "source": [
    "test_org.info()"
   ]
  },
  {
   "cell_type": "code",
   "execution_count": null,
   "id": "8621d2da-6b6e-489b-a59f-f287d9f61edd",
   "metadata": {},
   "outputs": [],
   "source": [
    "train_org.head(5)"
   ]
  },
  {
   "cell_type": "code",
   "execution_count": null,
   "id": "da0607b8-b968-4ecf-8a34-c1a893ac2ec0",
   "metadata": {},
   "outputs": [],
   "source": [
    "test_org.head(5)"
   ]
  },
  {
   "cell_type": "code",
   "execution_count": null,
   "id": "c06e686a-5a7d-4c9e-be3c-2471b8f558b4",
   "metadata": {},
   "outputs": [],
   "source": [
    "def wrangling(train_org, test_org):\n",
    "    \n",
    "    print(\"---Shape---\")\n",
    "    display(train_org.shape)\n",
    "    display(test_org.shape)\n",
    "    \n",
    "    print(\"---Info----\")\n",
    "    display(train_org.info())\n",
    "    display(test_org.info())\n",
    "    \n",
    "    print(\"---NaN----\")\n",
    "    display(train_org.isna().sum())\n",
    "    display(test_org.isna().sum())\n",
    "    \n",
    "    print(\"---Duplicated---\")\n",
    "    display(train_org[train_org.duplicated()])\n",
    "    display(test_org[test_org.duplicated()])\n",
    "    \n",
    "    print(\"---Description---\")\n",
    "    display(train_org.describe())\n",
    "    display(test_org.describe())\n",
    "    \n",
    "    print(\"---Unique---\")\n",
    "    display(train_org.nunique())\n",
    "    display(test_org.nunique())\n",
    "    \n",
    "wrangling(train_org,test_org)"
   ]
  },
  {
   "cell_type": "code",
   "execution_count": null,
   "id": "b7e275c7-39bd-4dcc-843f-2bb72ff01f69",
   "metadata": {},
   "outputs": [],
   "source": [
    "test_org.describe(include='all')"
   ]
  },
  {
   "cell_type": "markdown",
   "id": "6d60d3f1-9880-40b9-b1a1-b3552637f205",
   "metadata": {},
   "source": [
    "맑음, 건조, 차대차가 대부분이다.  (날씨와 도로면의 상관관계?)"
   ]
  },
  {
   "cell_type": "code",
   "execution_count": null,
   "id": "f047f8d1-d111-4d48-9a01-3133d87eb229",
   "metadata": {},
   "outputs": [],
   "source": [
    "test_org.describe()"
   ]
  },
  {
   "cell_type": "code",
   "execution_count": null,
   "id": "60b3dab7-5089-4e46-b503-a490f24653fc",
   "metadata": {},
   "outputs": [],
   "source": []
  },
  {
   "cell_type": "markdown",
   "id": "e477f2c9-4e20-4108-93a9-9b3d6ee5787d",
   "metadata": {},
   "source": [
    "## EDA"
   ]
  },
  {
   "cell_type": "markdown",
   "id": "e7356111-a3e3-4bd9-a8af-380aed294965",
   "metadata": {},
   "source": [
    "## 사고유형과 eclo의 관계"
   ]
  },
  {
   "cell_type": "code",
   "execution_count": null,
   "id": "da1e5013-34d7-4c5e-93c2-f12a0a4d40f5",
   "metadata": {},
   "outputs": [],
   "source": [
    "palette = sns.color_palette(\"pastel\")\n",
    "sns.set_palette(palette=palette)"
   ]
  },
  {
   "cell_type": "code",
   "execution_count": null,
   "id": "9eaf50af-1ca8-4116-b128-6bda832ee310",
   "metadata": {},
   "outputs": [],
   "source": [
    "i = 0 \n",
    "plt.figure(figsize=(14,26))\n",
    "for col in ['사고유형']:\n",
    "    i += 1\n",
    "    plt.subplot(7,2,i)\n",
    "    sns.barplot(x=train_org[col], y=train_org['ECLO'],ci=None)\n",
    "    plt.xticks(rotation=45)\n",
    "plt.tight_layout()"
   ]
  },
  {
   "cell_type": "markdown",
   "id": "a83bb456-a0a2-41d3-99a1-7bb854f217f5",
   "metadata": {},
   "source": [
    "차대차 가 eclo가 높다"
   ]
  },
  {
   "cell_type": "markdown",
   "id": "99a59f41-61ba-49c2-8304-cffa777cf9b1",
   "metadata": {},
   "source": [
    "## 도로형태별 eclo"
   ]
  },
  {
   "cell_type": "code",
   "execution_count": null,
   "id": "e275c08a-3784-45d3-8d1c-3ed07c61afdf",
   "metadata": {},
   "outputs": [],
   "source": [
    "i = 0 \n",
    "plt.figure(figsize=(14,26))\n",
    "for col in ['도로형태']:\n",
    "    i += 1\n",
    "    plt.subplot(7,2,i)\n",
    "    sns.barplot(x=train_org[col], y=train_org['ECLO'],ci=None)\n",
    "    plt.xticks(rotation=45)\n",
    "plt.tight_layout()"
   ]
  },
  {
   "cell_type": "markdown",
   "id": "af992801-90e8-4301-85d7-fd41012ae862",
   "metadata": {},
   "source": [
    "터널, 고가도로위, 교차로부근의 순서대로 eclo가 높다."
   ]
  },
  {
   "cell_type": "markdown",
   "id": "a9aa8007-c88c-4d73-b2e7-5c9aa81583f1",
   "metadata": {},
   "source": [
    "## 시군구별 eclo"
   ]
  },
  {
   "cell_type": "code",
   "execution_count": null,
   "id": "6717b8c1-d18f-43f2-99ad-de61b0beb74a",
   "metadata": {},
   "outputs": [],
   "source": [
    "i = 0 \n",
    "plt.figure(figsize=(14,26))\n",
    "for col in ['시군구']:\n",
    "    i += 1\n",
    "    plt.subplot(7,2,i)\n",
    "    sns.barplot(x=train_org[col], y=train_org['ECLO'],ci=None)\n",
    "    plt.xticks(rotation=45)\n",
    "plt.tight_layout()"
   ]
  },
  {
   "cell_type": "markdown",
   "id": "3280e918-127c-4438-b715-43305cb198aa",
   "metadata": {},
   "source": [
    "eclo가 높은 시군구가 존재한다."
   ]
  },
  {
   "cell_type": "markdown",
   "id": "01e50b82-424f-4c38-908a-e17f9c2aefd5",
   "metadata": {},
   "source": [
    "## 기상상태와 eclo의 관계"
   ]
  },
  {
   "cell_type": "code",
   "execution_count": null,
   "id": "3194da85-02e7-41e5-acc6-43d4bcf0ed89",
   "metadata": {},
   "outputs": [],
   "source": [
    "i = 0 \n",
    "plt.figure(figsize=(14,26))\n",
    "for col in ['기상상태']:\n",
    "    i += 1\n",
    "    plt.subplot(7,2,i)\n",
    "    sns.barplot(x=train_org[col], y=train_org['ECLO'],ci=None)\n",
    "    plt.xticks(rotation=45)\n",
    "plt.tight_layout()"
   ]
  },
  {
   "cell_type": "markdown",
   "id": "d6b76f72-b48c-4b48-8b88-8a8c9dc74511",
   "metadata": {},
   "source": [
    "비가 왔을 때 eclo가 높다"
   ]
  },
  {
   "cell_type": "markdown",
   "id": "2e76d5f4-8824-464e-992b-8f015723c62f",
   "metadata": {},
   "source": [
    "## 노면상태에 따른 eclo"
   ]
  },
  {
   "cell_type": "code",
   "execution_count": null,
   "id": "8326c0b8-6f68-4b37-a97e-27d9881da871",
   "metadata": {},
   "outputs": [],
   "source": [
    "i = 0 \n",
    "plt.figure(figsize=(14,26))\n",
    "for col in ['노면상태']:\n",
    "    i += 1\n",
    "    plt.subplot(7,2,i)\n",
    "    sns.barplot(x=train_org[col], y=train_org['ECLO'],ci=None)\n",
    "    plt.xticks(rotation=45)\n",
    "plt.tight_layout()"
   ]
  },
  {
   "cell_type": "markdown",
   "id": "d04c41e8-97d4-428d-9c0c-1fe6cf4d807a",
   "metadata": {},
   "source": [
    "침수,젖음/습기일때 eclo가 높다"
   ]
  },
  {
   "cell_type": "markdown",
   "id": "ee3c6447-9c6c-4923-9856-09e0805ec8f9",
   "metadata": {},
   "source": [
    "## 기상상태와 노면상태의 관계"
   ]
  },
  {
   "cell_type": "code",
   "execution_count": null,
   "id": "a53b4e95-4249-4560-9d76-b7372a751256",
   "metadata": {},
   "outputs": [],
   "source": [
    "count_table = pd.crosstab(train_org['기상상태'],train_org['노면상태'])\n",
    "count_table.style.background_gradient()"
   ]
  },
  {
   "cell_type": "markdown",
   "id": "0b8ad2a2-c880-4a03-8a7b-96eafc56276c",
   "metadata": {},
   "source": [
    "맑을때 건조하고, 비가 왔을때 젖어있다. (건조한 경우가 매우 많음)"
   ]
  },
  {
   "cell_type": "markdown",
   "id": "d5be49de-a923-4d03-87b1-55263f458b87",
   "metadata": {},
   "source": [
    "## 기상상태와 사고유형의 관계"
   ]
  },
  {
   "cell_type": "code",
   "execution_count": null,
   "id": "f5cd928a-6ca3-4235-be30-5e05c66eccd1",
   "metadata": {},
   "outputs": [],
   "source": [
    "count_table = pd.crosstab(train_org['사고유형'],train_org['기상상태'])\n",
    "count_table.style.background_gradient()"
   ]
  },
  {
   "cell_type": "markdown",
   "id": "a8329911-7bcf-4f03-97b3-bdc419ee3a18",
   "metadata": {},
   "source": [
    "차대차 사고비율이 항상 많다."
   ]
  },
  {
   "cell_type": "markdown",
   "id": "0405777d-f855-493f-ac5c-fffc96eaa583",
   "metadata": {},
   "source": [
    "## 기상상태와 도로형태의 관계"
   ]
  },
  {
   "cell_type": "code",
   "execution_count": null,
   "id": "9de6ac4d-8eaf-44fc-84a6-2928cee24cd4",
   "metadata": {},
   "outputs": [],
   "source": [
    "count_table = pd.crosstab(train_org['도로형태'],train_org['기상상태'])\n",
    "count_table.style.background_gradient()"
   ]
  },
  {
   "cell_type": "markdown",
   "id": "4ed611d3-10f5-4be4-be9f-b812c04a95e3",
   "metadata": {},
   "source": [
    "사고는 맑은날에 많이 일어나지만 eclo는 침수, 젖어있을 경우가 더 높다"
   ]
  },
  {
   "cell_type": "markdown",
   "id": "76e0c0be-f57b-447a-bd40-5d5a8d857cff",
   "metadata": {},
   "source": [
    "## 사고유형-세부분류와 eclo"
   ]
  },
  {
   "cell_type": "code",
   "execution_count": null,
   "id": "b1249026-b789-462e-a735-c5579421fa8f",
   "metadata": {},
   "outputs": [],
   "source": [
    "i = 0 \n",
    "plt.figure(figsize=(14,26))\n",
    "for col in ['사고유형 - 세부분류']:\n",
    "    i += 1\n",
    "    plt.subplot(7,2,i)\n",
    "    sns.barplot(x=train_org[col], y=train_org['ECLO'],ci=None)\n",
    "    plt.xticks(rotation=45)\n",
    "plt.tight_layout()"
   ]
  },
  {
   "cell_type": "markdown",
   "id": "07ff80c8-1b77-4d2c-bb66-20b3a93147a3",
   "metadata": {},
   "source": [
    "전도, 전복, 정면충돌이 eclo가 높다"
   ]
  },
  {
   "cell_type": "markdown",
   "id": "7a85f0fb-68fa-4327-9021-52f3953d5aa7",
   "metadata": {},
   "source": [
    "## 법규위반시 eclo"
   ]
  },
  {
   "cell_type": "code",
   "execution_count": null,
   "id": "87d514e1-03f5-4edc-9d1c-2aa1009c5d53",
   "metadata": {},
   "outputs": [],
   "source": [
    "i = 0 \n",
    "plt.figure(figsize=(14,26))\n",
    "for col in ['법규위반']:\n",
    "    i += 1\n",
    "    plt.subplot(7,2,i)\n",
    "    sns.barplot(x=train_org[col], y=train_org['ECLO'],ci=None)\n",
    "    plt.xticks(rotation=45)\n",
    "plt.tight_layout()"
   ]
  },
  {
   "cell_type": "markdown",
   "id": "f208c1fa-c6d8-4bb9-9e5b-a55b84fde7d4",
   "metadata": {},
   "source": [
    "과속의 경우가 eclo가 압도적으로 높다"
   ]
  },
  {
   "cell_type": "code",
   "execution_count": null,
   "id": "069c5bed-a521-46ea-a357-f70e7bdd8332",
   "metadata": {},
   "outputs": [],
   "source": [
    "i = 0 \n",
    "plt.figure(figsize=(14,26))\n",
    "for col in ['가해운전자 성별']:\n",
    "    i += 1\n",
    "    plt.subplot(7,2,i)\n",
    "    sns.barplot(x=train_org[col], y=train_org['ECLO'],ci=None)\n",
    "    plt.xticks(rotation=45)\n",
    "plt.tight_layout()"
   ]
  },
  {
   "cell_type": "markdown",
   "id": "cdf4ace3-3d48-48eb-abcf-24e39d52740b",
   "metadata": {},
   "source": [
    "성별의 eclo 차이는 거의 존재하지 않는다"
   ]
  },
  {
   "cell_type": "markdown",
   "id": "312e795f-69ee-44b3-a0c7-364b4b2f3508",
   "metadata": {},
   "source": [
    "## 가해운전자 차종, 피해운전자 차종의 eclo"
   ]
  },
  {
   "cell_type": "code",
   "execution_count": null,
   "id": "4a40aa6a-1495-4c4a-8aa2-7be160579705",
   "metadata": {},
   "outputs": [],
   "source": [
    "i = 0 \n",
    "plt.figure(figsize=(14,26))\n",
    "for col in ['가해운전자 차종']:\n",
    "    i += 1\n",
    "    plt.subplot(7,2,i)\n",
    "    sns.barplot(x=train_org[col], y=train_org['ECLO'],ci=None)\n",
    "    plt.xticks(rotation=45)\n",
    "plt.tight_layout()"
   ]
  },
  {
   "cell_type": "code",
   "execution_count": null,
   "id": "1f1c83d3-1a57-4c66-be8c-500a3b3fb648",
   "metadata": {},
   "outputs": [],
   "source": [
    "i = 0 \n",
    "plt.figure(figsize=(14,26))\n",
    "for col in ['피해운전자 차종']:\n",
    "    i += 1\n",
    "    plt.subplot(7,2,i)\n",
    "    sns.barplot(x=train_org[col], y=train_org['ECLO'],ci=None)\n",
    "    plt.xticks(rotation=45)\n",
    "plt.tight_layout()"
   ]
  },
  {
   "cell_type": "markdown",
   "id": "4a7d85df-2c9b-4464-b1a3-33efa56aa1b1",
   "metadata": {},
   "source": [
    "가해운전자 차종이 승용, 승합, 화물일때 eclo가 높고 \n",
    "피해운전자 차종이 농기계, 승합차일경우 eclo가 높다"
   ]
  },
  {
   "cell_type": "code",
   "execution_count": null,
   "id": "4402fa02-1af3-421c-b16a-dcf4cff46af9",
   "metadata": {},
   "outputs": [],
   "source": [
    "i = 0 \n",
    "plt.figure(figsize=(14,26))\n",
    "for col in ['요일']:\n",
    "    i += 1\n",
    "    plt.subplot(7,2,i)\n",
    "    sns.barplot(x=train_org[col], y=train_org['ECLO'],ci=None)\n",
    "    plt.xticks(rotation=45)\n",
    "plt.tight_layout()"
   ]
  },
  {
   "cell_type": "markdown",
   "id": "91039292-c3ff-4743-a218-435e410c6a65",
   "metadata": {},
   "source": [
    "주말인 경우 eclo가 높다"
   ]
  },
  {
   "cell_type": "markdown",
   "id": "bcb2172a-23fc-4fa2-956a-ee5fa20ce13b",
   "metadata": {},
   "source": [
    "## 시군구별 eclo"
   ]
  },
  {
   "cell_type": "code",
   "execution_count": null,
   "id": "06e3dedb-b0d1-4f2b-b9e0-6f661b254b4b",
   "metadata": {},
   "outputs": [],
   "source": [
    "num_by_region = train_org.groupby(['시군구'])['ECLO'].mean().sort_values(ascending=False)\n",
    "print(\"높은 ECLO\")\n",
    "display(num_by_region[:10])\n",
    "print()\n",
    "print(\"낮은 ECLO\")\n",
    "display(num_by_region[-10:])"
   ]
  },
  {
   "cell_type": "code",
   "execution_count": null,
   "id": "1a896f46-7f79-4f58-92e7-9ca3bd693e92",
   "metadata": {},
   "outputs": [],
   "source": [
    "train_org['구'] = train_org['시군구'].str.split(\" \",expand=True)[1]\n",
    "train_org['동'] = train_org['시군구'].str.split(\" \",expand=True)[2]"
   ]
  },
  {
   "cell_type": "code",
   "execution_count": null,
   "id": "24018264-cbb6-4c1c-9427-f5a48388c085",
   "metadata": {},
   "outputs": [],
   "source": [
    "display(train_org.groupby(['구'])['ECLO'].mean().nlargest(10))\n",
    "display(train_org.groupby(['동'])['ECLO'].mean().nlargest(10))"
   ]
  },
  {
   "cell_type": "markdown",
   "id": "6ad250af-8ac7-4155-b009-bfb72ff35825",
   "metadata": {},
   "source": [
    "달성군, 노곡동에서 eclo가 크다\n",
    "달성군에는 고속도로, 노곡동에는 대로가 존재한다.\n",
    "과속을 할 가능성이 높고, 차가 많으므로 eclo가 높을것이다.\n"
   ]
  },
  {
   "cell_type": "markdown",
   "id": "b1dc98d8-e635-49da-85cf-188cf17e82fa",
   "metadata": {},
   "source": [
    "## 연령에 다른 eclo"
   ]
  },
  {
   "cell_type": "code",
   "execution_count": null,
   "id": "32e4a8cc-b65f-4c43-84c2-0ddfcf7bf920",
   "metadata": {},
   "outputs": [],
   "source": [
    "import re\n",
    "def extract_and_convert_to_int(data):\n",
    "    numbers = re.findall(r'\\d+', str(data))\n",
    "    return int(numbers[0]) if numbers else np.nan\n",
    "\n",
    "train_org['가해운전자 연령'] = train_org['가해운전자 연령'].apply(extract_and_convert_to_int)\n",
    "train_org['피해운전자 연령'] = train_org['피해운전자 연령'].apply(extract_and_convert_to_int)"
   ]
  },
  {
   "cell_type": "code",
   "execution_count": null,
   "id": "e77c514a-5b82-471d-a25f-f9f70b940960",
   "metadata": {},
   "outputs": [],
   "source": [
    "plt.scatter(x=train_org['가해운전자 연령'],y=train_org['ECLO'])\n",
    "plt.ylabel(\"ECLO\");\n",
    "\n",
    "plt.scatter(x=train_org['피해운전자 연령'],y=train_org['ECLO'])\n",
    "plt.ylabel(\"ECLO\");\n",
    "plt.legend(['가해운전자','피해운전자']);"
   ]
  },
  {
   "cell_type": "markdown",
   "id": "19f472d2-676f-4b1e-84b3-feb06397d114",
   "metadata": {},
   "source": [
    "나이는 eclo와 큰 관계가 없다"
   ]
  },
  {
   "cell_type": "markdown",
   "id": "5e7bd822-dc08-4036-b966-f8dca15e41b3",
   "metadata": {},
   "source": [
    "## 사고일시(년,월,일,시간)의 eclo"
   ]
  },
  {
   "cell_type": "code",
   "execution_count": null,
   "id": "81c6eb1a-9802-4c6e-832d-b90f4d1787d7",
   "metadata": {},
   "outputs": [],
   "source": [
    "train_org['년도'] = pd.to_datetime(train_org['사고일시']).dt.year\n",
    "train_org['월'] = pd.to_datetime(train_org['사고일시']).dt.month\n",
    "train_org['일'] = pd.to_datetime(train_org['사고일시']).dt.day\n",
    "train_org['시간'] = pd.to_datetime(train_org['사고일시']).dt.hour"
   ]
  },
  {
   "cell_type": "code",
   "execution_count": null,
   "id": "d5c68da6-b6c2-4301-a2b2-568a825db96c",
   "metadata": {},
   "outputs": [],
   "source": [
    "i = 0 \n",
    "plt.figure(figsize=(14,26))\n",
    "for col in ['년도']:\n",
    "    i += 1\n",
    "    plt.subplot(7,2,i)\n",
    "    sns.barplot(x=train_org[col], y=train_org['ECLO'],ci=None)\n",
    "    plt.xticks(rotation=45)\n",
    "plt.tight_layout()"
   ]
  },
  {
   "cell_type": "code",
   "execution_count": null,
   "id": "a179b2a5-a29c-441e-9f4a-1c8f9ba23a96",
   "metadata": {},
   "outputs": [],
   "source": [
    "i = 0 \n",
    "plt.figure(figsize=(14,26))\n",
    "for col in ['월']:\n",
    "    i += 1\n",
    "    plt.subplot(7,2,i)\n",
    "    sns.barplot(x=train_org[col], y=train_org['ECLO'],ci=None)\n",
    "    plt.xticks(rotation=45)\n",
    "plt.tight_layout()"
   ]
  },
  {
   "cell_type": "code",
   "execution_count": null,
   "id": "cc7c2d04-d2e5-4a68-80c9-6f86b24ffbde",
   "metadata": {},
   "outputs": [],
   "source": [
    "i = 0 \n",
    "plt.figure(figsize=(14,26))\n",
    "for col in ['일']:\n",
    "    i += 1\n",
    "    plt.subplot(7,2,i)\n",
    "    sns.barplot(x=train_org[col], y=train_org['ECLO'],ci=None)\n",
    "    plt.xticks(rotation=45)\n",
    "plt.tight_layout()"
   ]
  },
  {
   "cell_type": "code",
   "execution_count": null,
   "id": "3cdc6716-55fe-4023-9e99-92252cea1ddb",
   "metadata": {},
   "outputs": [],
   "source": [
    "i = 0 \n",
    "plt.figure(figsize=(14,26))\n",
    "for col in ['시간']:\n",
    "    i += 1\n",
    "    plt.subplot(7,2,i)\n",
    "    sns.barplot(x=train_org[col], y=train_org['ECLO'],ci=None)\n",
    "    plt.xticks(rotation=45)\n",
    "plt.tight_layout()"
   ]
  },
  {
   "cell_type": "markdown",
   "id": "0d862da4-6229-4023-a0ff-28ea4e954130",
   "metadata": {},
   "source": [
    "년이 지날수록 eclo는 소폭 감소하고 새벽시간대에 eclo가 높다(과속때문?)"
   ]
  },
  {
   "cell_type": "code",
   "execution_count": null,
   "id": "796236f1-467a-4637-b225-40f51850bc3a",
   "metadata": {},
   "outputs": [],
   "source": [
    "count_table = pd.crosstab(train_org['법규위반'],train_org['시간'])\n",
    "count_table.style.background_gradient()"
   ]
  },
  {
   "cell_type": "markdown",
   "id": "23058d5e-62b7-483c-a682-9cd65f80f802",
   "metadata": {},
   "source": [
    "새벽에는 안전운전 불이행하는 경우가 많다."
   ]
  },
  {
   "cell_type": "markdown",
   "id": "96a6f04c-2ace-4384-be3a-f07622ace695",
   "metadata": {},
   "source": [
    "## 정리"
   ]
  },
  {
   "cell_type": "markdown",
   "id": "114fdcd2-3354-4a02-8fb6-46359fcbc579",
   "metadata": {},
   "source": [
    "주말, 안개, 특정시군구, 터널, 침수, 차대차, 과속, 피해운전자 차종이 농기계인 경우 eclo가 높다. "
   ]
  },
  {
   "cell_type": "markdown",
   "id": "68ed3f9d-be9c-4063-815b-d4520a4e408b",
   "metadata": {},
   "source": [
    "특이사항: 비오는 날 보다 맑은 날 eclo가 높고, 차대차인 경우에 eclo가 높다, 나이는 상관이 없다."
   ]
  },
  {
   "cell_type": "markdown",
   "id": "c4463c6f-69c4-41c7-84ef-ec2a0b533cf2",
   "metadata": {},
   "source": [
    "# 타이타닉 분석보다 조금 더 난이도가 있는 것 같다. 수치화를 하면 더 높은 예측률을 보일 것 같으나, 변수가 너무 많아진다. \n",
    "# 관계분석을 더 해야하는것이 좋은 방법인 것 같다. \n",
    "# 수치화를 하는 경우와 안하는 경우를 조사해봐야할것같다. \n",
    "# 모델에 어떻게 적용해야하는지 생각해봐야할 것 같다.\n",
    "# eclo가 아닌 사고 빈도로 생각하는 경우가 많아서 헷갈렸다."
   ]
  },
  {
   "cell_type": "code",
   "execution_count": null,
   "id": "e9208bc8-127c-4273-af83-54962d76dc7e",
   "metadata": {},
   "outputs": [],
   "source": []
  }
 ],
 "metadata": {
  "kernelspec": {
   "display_name": "Python 3 (ipykernel)",
   "language": "python",
   "name": "python3"
  },
  "language_info": {
   "codemirror_mode": {
    "name": "ipython",
    "version": 3
   },
   "file_extension": ".py",
   "mimetype": "text/x-python",
   "name": "python",
   "nbconvert_exporter": "python",
   "pygments_lexer": "ipython3",
   "version": "3.10.13"
  }
 },
 "nbformat": 4,
 "nbformat_minor": 5
}
